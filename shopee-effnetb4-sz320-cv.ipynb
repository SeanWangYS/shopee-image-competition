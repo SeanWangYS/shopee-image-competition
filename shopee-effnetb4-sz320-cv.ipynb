{
 "cells": [
  {
   "cell_type": "markdown",
   "metadata": {
    "toc": true
   },
   "source": [
    "<h1>Table of Contents<span class=\"tocSkip\"></span></h1>\n",
    "<div class=\"toc\"><ul class=\"toc-item\"><li><span><a href=\"#TPU/GPU-detection\" data-toc-modified-id=\"TPU/GPU-detection-1\"><span class=\"toc-item-num\">1&nbsp;&nbsp;</span>TPU/GPU detection</a></span></li><li><span><a href=\"#Configuration\" data-toc-modified-id=\"Configuration-2\"><span class=\"toc-item-num\">2&nbsp;&nbsp;</span>Configuration</a></span><ul class=\"toc-item\"><li><span><a href=\"#Functions\" data-toc-modified-id=\"Functions-2.1\"><span class=\"toc-item-num\">2.1&nbsp;&nbsp;</span>Functions</a></span></li></ul></li><li><span><a href=\"#Datasets\" data-toc-modified-id=\"Datasets-3\"><span class=\"toc-item-num\">3&nbsp;&nbsp;</span>Datasets</a></span><ul class=\"toc-item\"><li><span><a href=\"#Data-pipeline\" data-toc-modified-id=\"Data-pipeline-3.1\"><span class=\"toc-item-num\">3.1&nbsp;&nbsp;</span>Data pipeline</a></span></li><li><span><a href=\"#Data-augmentation\" data-toc-modified-id=\"Data-augmentation-3.2\"><span class=\"toc-item-num\">3.2&nbsp;&nbsp;</span>Data augmentation</a></span></li><li><span><a href=\"#Train/validation-split\" data-toc-modified-id=\"Train/validation-split-3.3\"><span class=\"toc-item-num\">3.3&nbsp;&nbsp;</span>Train/validation split</a></span></li><li><span><a href=\"#Dataset-visualizations\" data-toc-modified-id=\"Dataset-visualizations-3.4\"><span class=\"toc-item-num\">3.4&nbsp;&nbsp;</span>Dataset visualizations</a></span></li></ul></li><li><span><a href=\"#Keras\" data-toc-modified-id=\"Keras-4\"><span class=\"toc-item-num\">4&nbsp;&nbsp;</span>Keras</a></span><ul class=\"toc-item\"><li><span><a href=\"#Learning-rate-scheduler\" data-toc-modified-id=\"Learning-rate-scheduler-4.1\"><span class=\"toc-item-num\">4.1&nbsp;&nbsp;</span>Learning rate scheduler</a></span></li><li><span><a href=\"#Model\" data-toc-modified-id=\"Model-4.2\"><span class=\"toc-item-num\">4.2&nbsp;&nbsp;</span>Model</a></span></li><li><span><a href=\"#Training\" data-toc-modified-id=\"Training-4.3\"><span class=\"toc-item-num\">4.3&nbsp;&nbsp;</span>Training</a></span></li></ul></li><li><span><a href=\"#Validation\" data-toc-modified-id=\"Validation-5\"><span class=\"toc-item-num\">5&nbsp;&nbsp;</span>Validation</a></span></li></ul></div>"
   ]
  },
  {
   "cell_type": "code",
   "execution_count": 1,
   "metadata": {
    "_cell_guid": "b1076dfc-b9ad-4769-8c92-a6c4dae69d19",
    "_uuid": "8f2839f25d086af736a60e9eeb907d3b93b6e0e5"
   },
   "outputs": [],
   "source": [
    "!pip install -q tensorflow-addons==0.9.1\n",
    "# !pip install -q image-classifiers==1.0.0\n",
    "!pip install -q efficientnet==1.1.0"
   ]
  },
  {
   "cell_type": "code",
   "execution_count": 2,
   "metadata": {
    "_cell_guid": "79c7e3d0-c299-4dcb-8224-4455121ee9b0",
    "_uuid": "d629ff2d2480ee46fbb7e2d37f6b5fab8052498a"
   },
   "outputs": [
    {
     "name": "stdout",
     "output_type": "stream",
     "text": [
      "Tensorflow version 2.2.0\n"
     ]
    }
   ],
   "source": [
    "import math, re, os, glob, time, random\n",
    "from collections import namedtuple\n",
    "from functools import partial\n",
    "\n",
    "import numpy as np\n",
    "import pandas as pd\n",
    "import tensorflow as tf\n",
    "import tensorflow_addons as tfa\n",
    "\n",
    "# from classification_models.tfkeras import Classifiers\n",
    "import efficientnet.tfkeras as efn\n",
    "\n",
    "from sklearn.metrics import accuracy_score, f1_score, precision_score, recall_score, confusion_matrix\n",
    "from sklearn.model_selection import KFold, StratifiedKFold\n",
    "from kaggle_datasets import KaggleDatasets\n",
    "\n",
    "import seaborn as sns\n",
    "from matplotlib import pyplot as plt\n",
    "\n",
    "print(\"Tensorflow version \" + tf.__version__)\n",
    "\n",
    "K = tf.keras.backend\n",
    "L = tf.keras.layers\n",
    "AUTO = tf.data.experimental.AUTOTUNE"
   ]
  },
  {
   "cell_type": "markdown",
   "metadata": {},
   "source": [
    "# TPU/GPU detection"
   ]
  },
  {
   "cell_type": "code",
   "execution_count": 3,
   "metadata": {},
   "outputs": [
    {
     "name": "stdout",
     "output_type": "stream",
     "text": [
      "Running on TPU  grpc://10.0.0.2:8470\n",
      "REPLICAS:  8\n"
     ]
    }
   ],
   "source": [
    "# Detect hardware, return appropriate distribution strategy\n",
    "def get_strategy():\n",
    "    try:\n",
    "        tpu = tf.distribute.cluster_resolver.TPUClusterResolver()  # TPU detection. No parameters necessary if TPU_NAME environment variable is set. On Kaggle this is always the case.\n",
    "        print('Running on TPU ', tpu.master())\n",
    "    except ValueError:\n",
    "        tpu = None\n",
    "\n",
    "    if tpu:\n",
    "        tf.config.experimental_connect_to_cluster(tpu)\n",
    "        tf.tpu.experimental.initialize_tpu_system(tpu)\n",
    "        strategy = tf.distribute.experimental.TPUStrategy(tpu)\n",
    "    else:\n",
    "        strategy = tf.distribute.get_strategy() # default distribution strategy in Tensorflow. Works on CPU and single GPU.\n",
    "\n",
    "    print(\"REPLICAS: \", strategy.num_replicas_in_sync)\n",
    "    \n",
    "    return strategy\n",
    "\n",
    "strategy = get_strategy()"
   ]
  },
  {
   "cell_type": "markdown",
   "metadata": {},
   "source": [
    "# Configuration"
   ]
  },
  {
   "cell_type": "code",
   "execution_count": 4,
   "metadata": {},
   "outputs": [],
   "source": [
    "# data setup\n",
    "SEED = 1029\n",
    "GCS_PATH = KaggleDatasets().get_gcs_path('shopee-product-detection-open')  # used in tpu kernel\n",
    "GCS_PATH_2 = KaggleDatasets().get_gcs_path('sp-tfrecords-sz320')  # 'sp-tfrecords' or 'sp-tfrecords-sz320'\n",
    "DATA_PATH = '../input/shopee-product-detection-open/'\n",
    "CLASSES = sorted(os.listdir(DATA_PATH+'train/train/train'))\n",
    "IM_SZ = 320  # 224, 320, 384, 448, 512\n",
    "IMAGE_SIZE = [IM_SZ, IM_SZ]\n",
    "WHICH_FOLD = 0\n",
    "\n",
    "# training setup\n",
    "EPOCHS = 7\n",
    "BATCH_SIZE = 16 * strategy.num_replicas_in_sync\n",
    "LR = 8e-4\n",
    "\n",
    "random.seed(SEED)\n",
    "np.random.seed(SEED)"
   ]
  },
  {
   "cell_type": "markdown",
   "metadata": {},
   "source": [
    "## Functions"
   ]
  },
  {
   "cell_type": "code",
   "execution_count": 5,
   "metadata": {},
   "outputs": [],
   "source": [
    "# numpy and matplotlib defaults\n",
    "np.set_printoptions(threshold=15, linewidth=80)\n",
    "\n",
    "def batch_to_numpy_images_and_labels(data, to_deprocess=False):\n",
    "    try:\n",
    "        images, labels = data\n",
    "        numpy_images = images.numpy()\n",
    "        numpy_labels = labels.numpy()\n",
    "    except:\n",
    "        images = data\n",
    "        numpy_images = images.numpy()\n",
    "        numpy_labels = None\n",
    "    # If no labels, only image IDs, return None for labels (this is the case for test data)\n",
    "    if to_deprocess:\n",
    "        numpy_images = np.stack([deprocessing(im) for im in numpy_images])\n",
    "    return numpy_images, numpy_labels\n",
    "\n",
    "def title_from_label_and_target(label, correct_label):\n",
    "    if correct_label is None:\n",
    "        return CLASSES[label], True\n",
    "    correct = (label == correct_label)\n",
    "    return \"{} [{}{}{}]\".format(CLASSES[label], 'OK' if correct else 'NO', u\"\\u2192\" if not correct else '',\n",
    "                                CLASSES[correct_label] if not correct else ''), correct\n",
    "\n",
    "def display_one_sample(image, title, subplot, red=False, titlesize=16):\n",
    "    plt.subplot(*subplot)\n",
    "    plt.axis('off')\n",
    "    plt.imshow(image)\n",
    "    if len(title) > 0:\n",
    "        plt.title(title, fontsize=int(titlesize) if not red else int(titlesize/1.2), color='red' if red else 'black', fontdict={'verticalalignment':'center'}, pad=int(titlesize/1.5))\n",
    "    return (subplot[0], subplot[1], subplot[2]+1)\n",
    "    \n",
    "def display_batch_of_images(databatch, predictions=None, to_deprocess=False):\n",
    "    \"\"\"This will work with:\n",
    "    display_batch_of_images(images)\n",
    "    display_batch_of_images(images, predictions)\n",
    "    display_batch_of_images((images, labels))\n",
    "    display_batch_of_images((images, labels), predictions)\n",
    "    \"\"\"\n",
    "    # data\n",
    "    images, labels = batch_to_numpy_images_and_labels(databatch, to_deprocess)\n",
    "    if labels is None:\n",
    "        labels = [None for _ in enumerate(images)]\n",
    "    else:\n",
    "        labels = np.argmax(labels, -1)\n",
    "        \n",
    "    # auto-squaring: this will drop data that does not fit into square or square-ish rectangle\n",
    "    rows = int(math.sqrt(len(images)))\n",
    "    cols = len(images)//rows\n",
    "        \n",
    "    # size and spacing\n",
    "    FIGSIZE = 13.0\n",
    "    SPACING = 0.1\n",
    "    subplot=(rows,cols,1)\n",
    "    if rows < cols:\n",
    "        plt.figure(figsize=(FIGSIZE,FIGSIZE/cols*rows))\n",
    "    else:\n",
    "        plt.figure(figsize=(FIGSIZE/rows*cols,FIGSIZE))\n",
    "    \n",
    "    # display\n",
    "    for i, (image, label) in enumerate(zip(images[:rows*cols], labels[:rows*cols])):\n",
    "        title = '' if label is None else CLASSES[label]\n",
    "        correct = True\n",
    "        if predictions is not None:\n",
    "            title, correct = title_from_label_and_target(predictions[i], label)\n",
    "        dynamic_titlesize = FIGSIZE*SPACING/max(rows,cols)*40+3 # magic formula tested to work from 1x1 to 10x10 images\n",
    "        subplot = display_one_sample(image, title, subplot, not correct, titlesize=dynamic_titlesize)\n",
    "    \n",
    "    #layout\n",
    "    plt.tight_layout()\n",
    "    if label is None and predictions is None:\n",
    "        plt.subplots_adjust(wspace=0, hspace=0)\n",
    "    else:\n",
    "        plt.subplots_adjust(wspace=SPACING, hspace=SPACING)\n",
    "    plt.show()\n",
    "\n",
    "def display_confusion_matrix(cmat, score, precision, recall):\n",
    "    plt.figure(figsize=(15,15))\n",
    "    ax = plt.gca()\n",
    "    ax.matshow(cmat, cmap='Reds')\n",
    "    ax.set_xticks(range(len(CLASSES)))\n",
    "    ax.set_xticklabels(CLASSES, fontdict={'fontsize': 7})\n",
    "    plt.setp(ax.get_xticklabels(), rotation=45, ha=\"left\", rotation_mode=\"anchor\")\n",
    "    ax.set_yticks(range(len(CLASSES)))\n",
    "    ax.set_yticklabels(CLASSES, fontdict={'fontsize': 7})\n",
    "    plt.setp(ax.get_yticklabels(), rotation=45, ha=\"right\", rotation_mode=\"anchor\")\n",
    "    titlestring = \"\"\n",
    "    if score is not None:\n",
    "        titlestring += 'f1 = {:.3f} '.format(score)\n",
    "    if precision is not None:\n",
    "        titlestring += '\\nprecision = {:.3f} '.format(precision)\n",
    "    if recall is not None:\n",
    "        titlestring += '\\nrecall = {:.3f} '.format(recall)\n",
    "    if len(titlestring) > 0:\n",
    "        ax.text(101, 1, titlestring, fontdict={'fontsize': 18, 'horizontalalignment':'right', 'verticalalignment':'top', 'color':'#804040'})\n",
    "    plt.show()\n",
    "\n",
    "def display_training_curves(training, validation, title, subplot, figsize=(8,10)):\n",
    "    if subplot % 10 == 1:  # set up the subplots on the first call\n",
    "        plt.subplots(figsize=figsize)\n",
    "        plt.tight_layout()\n",
    "    ax = plt.subplot(subplot)\n",
    "    ax.plot(training)\n",
    "    ax.plot(validation)\n",
    "    ax.set_title('model '+ title)\n",
    "    ax.set_ylabel(title)\n",
    "    ax.set_xlabel('epoch')\n",
    "    ax.legend(['train', 'valid.'])"
   ]
  },
  {
   "cell_type": "markdown",
   "metadata": {},
   "source": [
    "# Datasets"
   ]
  },
  {
   "cell_type": "code",
   "execution_count": 6,
   "metadata": {},
   "outputs": [
    {
     "name": "stdout",
     "output_type": "stream",
     "text": [
      "Num. of train images: 105390\n",
      "Num. of test images: 12186\n"
     ]
    }
   ],
   "source": [
    "train_df = pd.read_csv(DATA_PATH + 'train.csv')\n",
    "test_df = pd.read_csv(DATA_PATH + 'test.csv')\n",
    "\n",
    "NUM_TRAIN_IMAGES = train_df.shape[0]\n",
    "NUM_TEST_IMAGES = test_df.shape[0]\n",
    "\n",
    "print('Num. of train images:', NUM_TRAIN_IMAGES)\n",
    "print('Num. of test images:', NUM_TEST_IMAGES)"
   ]
  },
  {
   "cell_type": "code",
   "execution_count": 7,
   "metadata": {},
   "outputs": [],
   "source": [
    "TRAINING_FILENAMES = tf.io.gfile.glob(GCS_PATH_2 + '/train/*.tfrec')\n",
    "TEST_FILENAMES = tf.io.gfile.glob(GCS_PATH_2 + '/test/*.tfrec')"
   ]
  },
  {
   "cell_type": "markdown",
   "metadata": {},
   "source": [
    "## Data pipeline"
   ]
  },
  {
   "cell_type": "code",
   "execution_count": 8,
   "metadata": {},
   "outputs": [],
   "source": [
    "# for caffe preproc mode\n",
    "MEAN_C = [123.68, 116.779, 103.939]\n",
    "\n",
    "# for torch preproc mode\n",
    "MEAN_T = [0.485, 0.456, 0.406]\n",
    "STD = [0.229, 0.224, 0.225]\n",
    "\n",
    "def decode_image(image, mode='torch'):\n",
    "    assert mode in (None, 'tf', 'torch', 'caffe'), \"mode must be one of None, 'tf', 'torch', 'caffe'\"\n",
    "    image = tf.image.decode_jpeg(image, channels=3)\n",
    "    image = tf.cast(image, tf.float32)\n",
    "    image = tf.image.resize(image, IMAGE_SIZE)\n",
    "    if mode is None:\n",
    "        return image\n",
    "    if mode == 'tf':\n",
    "        image = image / 255.0  # convert image to floats in [0, 1] range\n",
    "    if mode == 'torch':\n",
    "        image = image / 255.0\n",
    "        image = (image - MEAN_T) / STD\n",
    "    if mode == 'caffe':\n",
    "        image = image - MEAN_C\n",
    "    return image\n",
    "\n",
    "def deprocessing(image, mode='torch'):\n",
    "    assert mode in (None, 'tf', 'torch', 'caffe'), \"mode must be one of None, 'tf', 'torch', 'caffe'\"\n",
    "    def rescale(x):\n",
    "        low, high = x.min(), x.max()\n",
    "        x_rescaled = (x - low) / (high - low)\n",
    "        return x_rescaled\n",
    "    if mode is None or mode == 'tf':\n",
    "        return rescale(image)\n",
    "    if mode == 'torch':\n",
    "        return rescale(image * STD + MEAN_T)\n",
    "    if mode == 'caffe':\n",
    "        return rescale(image + MEAN_C)\n",
    "\n",
    "def read_labeled_tfrecord(example):\n",
    "    LABELED_TFREC_FORMAT = {\n",
    "        \"image\": tf.io.FixedLenFeature([], tf.string), # tf.string means bytestring\n",
    "        \"label\": tf.io.FixedLenFeature([], tf.int64),  # shape [] means single element\n",
    "    }\n",
    "    example = tf.io.parse_single_example(example, LABELED_TFREC_FORMAT)\n",
    "    image = decode_image(example['image'])\n",
    "    label = tf.one_hot(tf.cast(example['label'], tf.int32), len(CLASSES))\n",
    "    return image, label\n",
    "\n",
    "def read_unlabeled_tfrecord(example):\n",
    "    UNLABELED_TFREC_FORMAT = {\n",
    "        \"image\": tf.io.FixedLenFeature([], tf.string),  # tf.string means bytestring\n",
    "        \"filename\": tf.io.FixedLenFeature([], tf.string),  # shape [] means single element\n",
    "    }\n",
    "    example = tf.io.parse_single_example(example, UNLABELED_TFREC_FORMAT)\n",
    "    image = decode_image(example['image'])\n",
    "    filename = example['filename']\n",
    "    return image, filename\n",
    "\n",
    "def data_augment(image, label, p_hsv=0.6, p_affine=0.75, p_cutout=0.):\n",
    "    # data augmentation. Thanks to the dataset.prefetch(AUTO) statement in the next function (below),\n",
    "    # this happens essentially for free on TPU. Data pipeline code is executed on the \"CPU\" part\n",
    "    # of the TPU while the TPU itself is computing gradients.\n",
    "    r_hsv = tf.random.uniform([1], minval=0, maxval=1, dtype='float32', seed=SEED)\n",
    "    r_affine = tf.random.uniform([1], minval=0, maxval=1, dtype='float32', seed=SEED)\n",
    "    r_cutout = tf.random.uniform([1], minval=0, maxval=1, dtype='float32', seed=SEED)\n",
    "    \n",
    "    image = tf.image.random_flip_left_right(image)\n",
    "    if r_hsv < p_hsv:\n",
    "        image = tf.image.random_brightness(image, 0.15)\n",
    "        image = tf.image.random_saturation(image, 0.8, 2.3)\n",
    "        image = tf.image.random_contrast(image, 0.8, 1.3)\n",
    "    if r_affine < p_affine:\n",
    "        image = shift_scale_rotate(image, h_shift=0.1*IM_SZ, w_shift=0.1*IM_SZ)\n",
    "    if r_cutout < p_cutout:\n",
    "        image = cutout(image)\n",
    "    \n",
    "    return image, label\n",
    "\n",
    "def get_training_dataset():\n",
    "    dataset = tf.data.TFRecordDataset(TRAIN_FILENAMES, num_parallel_reads=AUTO)\n",
    "    return (\n",
    "        dataset\n",
    "        .map(read_labeled_tfrecord, num_parallel_calls=AUTO)\n",
    "        # .cache()\n",
    "        .map(data_augment, num_parallel_calls=AUTO)\n",
    "        .repeat()\n",
    "        .shuffle(100000)\n",
    "        .batch(BATCH_SIZE)\n",
    "        .prefetch(AUTO)\n",
    "    )\n",
    "\n",
    "def get_validation_dataset():\n",
    "    dataset = tf.data.TFRecordDataset(VALID_FILENAMES, num_parallel_reads=AUTO)\n",
    "    return (\n",
    "        dataset\n",
    "        .map(read_labeled_tfrecord, num_parallel_calls=AUTO)\n",
    "        .batch(BATCH_SIZE)\n",
    "        .cache()\n",
    "        .prefetch(AUTO)\n",
    "    )\n",
    "\n",
    "def get_test_dataset():\n",
    "    dataset = tf.data.TFRecordDataset(TEST_FILENAMES, num_parallel_reads=AUTO)\n",
    "    return (\n",
    "        dataset\n",
    "        .map(read_unlabeled_tfrecord, num_parallel_calls=AUTO)\n",
    "        .batch(BATCH_SIZE)\n",
    "    )\n",
    "\n",
    "def count_data_items(filenames):\n",
    "    # the number of data items is written in the name of the .tfrec files, i.e. flowers00-230.tfrec = 230 data items\n",
    "    n = [int(re.compile(r\"-([0-9]*)\\.\").search(filename).group(1)) for filename in filenames]\n",
    "    return np.sum(n)"
   ]
  },
  {
   "cell_type": "markdown",
   "metadata": {},
   "source": [
    "## Data augmentation"
   ]
  },
  {
   "cell_type": "code",
   "execution_count": 9,
   "metadata": {},
   "outputs": [],
   "source": [
    "def transform(image, matrix, border_mode=0):\n",
    "    BORDERS = ['constant', 'nearest']\n",
    "    border_mode = BORDERS[border_mode]\n",
    "    \n",
    "    DIM = IMAGE_SIZE[0]\n",
    "    C = DIM // 2\n",
    "    \n",
    "    # LIST DESTINATION PIXEL INDICES\n",
    "    y, x = tf.meshgrid(tf.range(DIM), tf.range(DIM))\n",
    "    x_c, y_c = tf.reshape(x - C, [-1]), tf.reshape(y - C, [-1])\n",
    "    x, y = tf.reshape(x, [-1]), tf.reshape(y, [-1])\n",
    "    if matrix.shape[0] == 2:\n",
    "        coord = tf.stack( [x_c,y_c] )   # (2, DIM*DIM)\n",
    "    else:\n",
    "        z = tf.ones([DIM*DIM], dtype='int32')\n",
    "        coord = tf.stack( [x_c,y_c,z] )   # (3, DIM*DIM)\n",
    "    \n",
    "    # ROTATE DESTINATION PIXELS ONTO ORIGIN PIXELS\n",
    "    coord_pr = tf.matmul(matrix, tf.cast(coord, dtype='float32'))\n",
    "    coord_pr = tf.cast(tf.round(coord_pr[:2,:] + C), dtype='int32')   # (2, DIM*DIM)\n",
    "    \n",
    "    # FIND ORIGIN PIXEL VALUES\n",
    "    if border_mode == 'constant':\n",
    "        x_pr, y_pr = coord_pr[0,:], coord_pr[1,:]\n",
    "        outside_ind = tf.logical_or( tf.logical_or(y_pr>DIM-1 , y_pr<0), tf.logical_or(x_pr>DIM-1 , x_pr<0))\n",
    "\n",
    "        x_pr = tf.boolean_mask(x_pr, tf.logical_not(outside_ind))   # (<DIM*DIM, )\n",
    "        y_pr = tf.boolean_mask(y_pr, tf.logical_not(outside_ind))   # (<DIM*DIM, )\n",
    "        x    = tf.boolean_mask(x, tf.logical_not(outside_ind))   # (<DIM*DIM, )\n",
    "        y    = tf.boolean_mask(y, tf.logical_not(outside_ind))   # (<DIM*DIM, )\n",
    "\n",
    "        coord_pr = tf.transpose( tf.stack( [x_pr, y_pr] ) )   # (<DIM*DIM, 2)\n",
    "        coord = tf.cast(tf.transpose( tf.stack( [x, y] ) ), 'int64')   # (<DIM*DIM, 2)\n",
    "\n",
    "        im_channels = tf.split(image, 3, axis=-1)\n",
    "        rot_channels = []\n",
    "        for im_val in im_channels:\n",
    "            rot_val = tf.squeeze(tf.gather_nd(im_val, coord_pr), axis=-1)   # (<DIM*DIM, )\n",
    "            rot = tf.SparseTensor(coord, rot_val, [DIM, DIM])\n",
    "            rot_channels.append(tf.sparse.to_dense(rot, default_value=0, validate_indices=False))\n",
    "\n",
    "        rot_image = tf.transpose(tf.stack(rot_channels), [1, 2, 0])   # (DIM, DIM, 3)\n",
    "    \n",
    "    if border_mode == 'nearest':\n",
    "        coord_pr = tf.clip_by_value(coord_pr, 0, DIM - 1)   # (2, DIM*DIM)\n",
    "        rot_image = tf.reshape( tf.gather_nd(image, tf.transpose(coord_pr)), [DIM, DIM, 3] )\n",
    "    \n",
    "    return rot_image\n",
    "\n",
    "def rotate(image, angle):\n",
    "    angle = math.pi * angle / 180.\n",
    "    c1 = tf.math.cos(angle)\n",
    "    s1 = tf.math.sin(angle)\n",
    "    t_matrix = tf.reshape( tf.stack([c1,s1, -s1,c1]), [2,2] )\n",
    "    return transform(image, t_matrix)\n",
    "\n",
    "def shear(image, angle):\n",
    "    angle = math.pi * angle / 180.\n",
    "    c1 = tf.math.cos(angle)\n",
    "    s1 = tf.math.sin(angle)\n",
    "    one = tf.constant([1], dtype='float32')\n",
    "    zero = tf.constant([0], dtype='float32')\n",
    "    t_matrix = tf.reshape( tf.stack([one[0],s1, zero[0],c1]), [2,2] )\n",
    "    return transform(image, t_matrix)\n",
    "\n",
    "def zoom(image, height_zoom, width_zoom):\n",
    "    one = tf.constant([1], dtype='float32')\n",
    "    zero = tf.constant([0], dtype='float32')\n",
    "    t_matrix = tf.reshape( tf.stack([one[0]/height_zoom,zero[0], zero[0],one[0]/width_zoom]), [2,2] )\n",
    "    return transform(image, t_matrix)\n",
    "\n",
    "def shift(image, height_shift, width_shift):\n",
    "    one = tf.constant([1], dtype='float32')\n",
    "    zero = tf.constant([0], dtype='float32')\n",
    "    t_matrix = tf.reshape( tf.stack([one[0],zero[0],height_shift, zero[0],one[0],width_shift, zero[0],zero[0],one[0]]), [3,3] )\n",
    "    return transform(image, t_matrix)\n",
    "\n",
    "def shift_scale_rotate(image, rotation=15, shear=8, h_zoom=1, w_zoom=1, h_shift=20, w_shift=20):\n",
    "    rot = rotation * tf.random.normal([1], dtype='float32')\n",
    "    shr = shear * tf.random.normal([1], dtype='float32')\n",
    "    h_zoom = h_zoom + tf.random.normal([1], dtype='float32') / 10.\n",
    "    w_zoom = w_zoom + tf.random.normal([1], dtype='float32') / 10.\n",
    "    h_shift = h_shift * tf.random.normal([1], dtype='float32')\n",
    "    w_shift = w_shift * tf.random.normal([1], dtype='float32')\n",
    "    \n",
    "    angle = math.pi * rot / 180.\n",
    "    c1 = tf.math.cos(angle)\n",
    "    s1 = tf.math.sin(angle)\n",
    "    one = tf.constant([1], dtype='float32')\n",
    "    zero = tf.constant([0], dtype='float32')\n",
    "    rot_matrix = tf.reshape( tf.concat([c1,s1, -s1,c1], axis=0), [2,2] )\n",
    "    \n",
    "    angle = math.pi * shr / 180.\n",
    "    c1 = tf.math.cos(angle)\n",
    "    s1 = tf.math.sin(angle)\n",
    "    shr_matrix = tf.reshape( tf.concat([one,s1, zero,c1], axis=0), [2,2] )\n",
    "    \n",
    "    z_matrix = tf.reshape( tf.concat([one/h_zoom,zero, zero,one/w_zoom], axis=0), [2,2] )\n",
    "    \n",
    "    t_matrix = K.dot(K.dot(rot_matrix, shr_matrix), z_matrix)\n",
    "    t_image = transform(image, t_matrix)\n",
    "    \n",
    "    s_matrix = tf.reshape( tf.concat([one,zero,h_shift, zero,one,w_shift, zero,zero,one], axis=0), [3,3] )\n",
    "    return transform(t_image, s_matrix)\n",
    "\n",
    "def cutout(image, min_height=0.4, min_width=0.4, max_height=0.6, max_width=0.6):\n",
    "    DIM = IMAGE_SIZE[0]\n",
    "    \n",
    "    cut_height = tf.cast(tf.round(tf.random.uniform([], minval=min_height*DIM, maxval=max_height*DIM)), 'int32')\n",
    "    cut_width = tf.cast(tf.round(tf.random.uniform([], minval=min_width*DIM, maxval=max_width*DIM)), 'int32')\n",
    "    x_min = tf.random.uniform([], minval=-cut_width//2, maxval=DIM-1-cut_width//2, dtype='int32')\n",
    "    x_max = x_min + cut_width\n",
    "    y_min = tf.random.uniform([], minval=-cut_height//2, maxval=DIM-1-cut_height//2, dtype='int32')\n",
    "    y_max = y_min + cut_height\n",
    "    if x_min < 0:\n",
    "        cut_width -= 0 - x_min\n",
    "        x_min = tf.clip_by_value(x_min, 0, x_max)\n",
    "    if y_min < 0:\n",
    "        cut_height -= 0 - y_min\n",
    "        y_min = tf.clip_by_value(y_min, 0, y_max)\n",
    "    if x_max > DIM:\n",
    "        cut_width -= x_max - DIM\n",
    "        x_max = tf.clip_by_value(x_max, x_min, DIM)\n",
    "    if y_max > DIM:\n",
    "        cut_height -= y_max - DIM\n",
    "        y_max = tf.clip_by_value(y_max, y_min, DIM)\n",
    "    \n",
    "    cut_area = tf.zeros([cut_height, cut_width, 3], dtype='float32')\n",
    "    pad_top = y_min\n",
    "    pad_bottom = DIM - y_max\n",
    "    pad_left = x_min\n",
    "    pad_right = DIM - x_max\n",
    "    cut_mask = tf.pad(cut_area, [[pad_top, pad_bottom], [pad_left, pad_right], [0,0]], constant_values=1)\n",
    "    \n",
    "    cut_image = tf.multiply(image, cut_mask)\n",
    "    return cut_image"
   ]
  },
  {
   "cell_type": "markdown",
   "metadata": {},
   "source": [
    "## Train/validation split"
   ]
  },
  {
   "cell_type": "code",
   "execution_count": 10,
   "metadata": {},
   "outputs": [],
   "source": [
    "VALID_FILENAMES = [TRAINING_FILENAMES[WHICH_FOLD]]\n",
    "TRAIN_FILENAMES = TRAINING_FILENAMES[:WHICH_FOLD] + TRAINING_FILENAMES[WHICH_FOLD+1:]"
   ]
  },
  {
   "cell_type": "code",
   "execution_count": 11,
   "metadata": {},
   "outputs": [
    {
     "name": "stdout",
     "output_type": "stream",
     "text": [
      "Dataset: 100121 training images, 5269 validation images, 12186 unlabeled test images\n"
     ]
    }
   ],
   "source": [
    "NUM_TRAIN_IMAGES = count_data_items(TRAIN_FILENAMES)\n",
    "NUM_VALIDATION_IMAGES = count_data_items(VALID_FILENAMES)\n",
    "STEPS_PER_EPOCH = math.ceil(NUM_TRAIN_IMAGES / BATCH_SIZE)\n",
    "# VALIDATION_STEPS = math.ceil(NUM_VALIDATION_IMAGES / BATCH_SIZE)\n",
    "print('Dataset: {} training images, {} validation images, {} unlabeled test images'.format(NUM_TRAIN_IMAGES, NUM_VALIDATION_IMAGES, NUM_TEST_IMAGES))"
   ]
  },
  {
   "cell_type": "markdown",
   "metadata": {},
   "source": [
    "## Dataset visualizations"
   ]
  },
  {
   "cell_type": "code",
   "execution_count": 12,
   "metadata": {},
   "outputs": [],
   "source": [
    "# val_dataset = get_validation_dataset()\n",
    "# val_dataset = val_dataset.unbatch().batch(5)\n",
    "# val_batch = iter(val_dataset)\n",
    "# images, labels = next(val_batch)"
   ]
  },
  {
   "cell_type": "code",
   "execution_count": 13,
   "metadata": {},
   "outputs": [],
   "source": [
    "# plt.figure(figsize=(5,5))\n",
    "# display_one_sample(images[1], '', (1,1,1));"
   ]
  },
  {
   "cell_type": "code",
   "execution_count": 14,
   "metadata": {},
   "outputs": [],
   "source": [
    "# plt.figure(figsize=(5,5))\n",
    "# display_one_sample(shift_scale_rotate(images[1]), '', (1,1,1));"
   ]
  },
  {
   "cell_type": "code",
   "execution_count": 15,
   "metadata": {},
   "outputs": [],
   "source": [
    "# plt.figure(figsize=(5,5))\n",
    "# display_one_sample(cutout(images[1]), '', (1,1,1));"
   ]
  },
  {
   "cell_type": "code",
   "execution_count": 16,
   "metadata": {},
   "outputs": [],
   "source": [
    "# # Peek at training data\n",
    "# train_dataset = get_training_dataset()\n",
    "# train_dataset = train_dataset.unbatch().batch(20)\n",
    "# train_batch = iter(train_dataset)"
   ]
  },
  {
   "cell_type": "code",
   "execution_count": 17,
   "metadata": {},
   "outputs": [],
   "source": [
    "# # run this cell again for next set of images\n",
    "# # longer because of the augmentation process\n",
    "# display_batch_of_images(next(train_batch), to_deprocess=True)"
   ]
  },
  {
   "cell_type": "code",
   "execution_count": 18,
   "metadata": {},
   "outputs": [],
   "source": [
    "# val_dataset = get_validation_dataset()\n",
    "# val_dataset = val_dataset.unbatch().batch(20)\n",
    "# val_batch = iter(val_dataset)"
   ]
  },
  {
   "cell_type": "code",
   "execution_count": 19,
   "metadata": {},
   "outputs": [],
   "source": [
    "# # run this cell again for next set of images\n",
    "# display_batch_of_images(next(val_batch), to_deprocess=True)"
   ]
  },
  {
   "cell_type": "code",
   "execution_count": 20,
   "metadata": {},
   "outputs": [],
   "source": [
    "# # peer at test data\n",
    "# test_dataset = get_test_dataset()\n",
    "# test_dataset = test_dataset.unbatch().batch(20)\n",
    "# test_batch = iter(test_dataset)"
   ]
  },
  {
   "cell_type": "code",
   "execution_count": 21,
   "metadata": {},
   "outputs": [],
   "source": [
    "# # run this cell again for next set of images\n",
    "# display_batch_of_images(next(test_batch), to_deprocess=True)"
   ]
  },
  {
   "cell_type": "markdown",
   "metadata": {},
   "source": [
    "# Keras"
   ]
  },
  {
   "cell_type": "markdown",
   "metadata": {},
   "source": [
    "## Learning rate scheduler"
   ]
  },
  {
   "cell_type": "code",
   "execution_count": 22,
   "metadata": {},
   "outputs": [],
   "source": [
    "class LRSchedule(tf.keras.optimizers.schedules.LearningRateSchedule):\n",
    "    SCHEDULES = set(['cosine', 'linear', 'linear_cosine'])\n",
    "    \n",
    "    def __init__(self, iterations, sched_profile='cosine', max_lr=3e-3,\n",
    "                 div_factor=40, warmup=0.3, final_div=None):\n",
    "\n",
    "        assert sched_profile in self.SCHEDULES\n",
    "        self.sched_profile = sched_profile\n",
    "\n",
    "        self.max_lr = max_lr\n",
    "        self.init_lr = max_lr/div_factor\n",
    "\n",
    "        self.final_div = final_div\n",
    "        if self.final_div is None: self.final_div = div_factor*1e4\n",
    "        self.final_lr = self.max_lr/self.final_div\n",
    "\n",
    "        self.total_iteration = iterations\n",
    "        self.up_iteration = int(self.total_iteration * warmup)\n",
    "        self.down_iteration = self.total_iteration - self.up_iteration\n",
    "\n",
    "    def _annealing_cos(self, start, end, pct):\n",
    "        cos_out = tf.math.cos(tf.constant(np.pi) * pct) + 1\n",
    "        return end + (start-end)/2 * cos_out\n",
    "\n",
    "    def _annealing_linear(self, start, end, pct):\n",
    "        return start + pct * (end-start)\n",
    "    \n",
    "    def _annealing_function(self):\n",
    "        if self.sched_profile == 'cosine':\n",
    "            return self._annealing_cos\n",
    "        if self.sched_profile == 'linear':\n",
    "            return self._annealing_linear\n",
    "    \n",
    "    @tf.function\n",
    "    def __call__(self, step):\n",
    "        if self.sched_profile != 'linear_cosine':\n",
    "            anneal = self._annealing_function()\n",
    "\n",
    "        if step <= self.up_iteration:\n",
    "            if self.sched_profile == 'linear_cosine':\n",
    "                anneal = self._annealing_linear\n",
    "            pct = step / self.up_iteration\n",
    "            curr_lr = anneal(self.init_lr, self.max_lr, pct)\n",
    "        else:\n",
    "            if self.sched_profile == 'linear_cosine':\n",
    "                anneal = self._annealing_cos\n",
    "            pct = (step-self.up_iteration) / self.down_iteration\n",
    "            curr_lr = anneal(self.max_lr, self.final_lr, pct)\n",
    "\n",
    "        return curr_lr\n",
    "    \n",
    "    def plot_sched(self):\n",
    "        fig_sz = (6,4)\n",
    "        subplts = (111,)\n",
    "        \n",
    "        init_lr = self.init_lr\n",
    "        max_lr = self.max_lr\n",
    "        final_lr = self.final_lr\n",
    "        if self.sched_profile == 'linear_cosine':\n",
    "            anneal_up = self._annealing_linear\n",
    "            anneal_down = self._annealing_cos\n",
    "        else:\n",
    "            anneal_up = anneal_down = self._annealing_function()\n",
    "        lrs = [anneal_up(init_lr, max_lr, it/self.up_iteration) for it in range(self.up_iteration)] + \\\n",
    "              [anneal_down(max_lr, final_lr, it/self.down_iteration) for it in range(self.down_iteration)]\n",
    "        \n",
    "        plt.subplots(figsize=fig_sz)\n",
    "        plt.tight_layout()\n",
    "        ax = plt.subplot(subplts[0])\n",
    "        ax.plot(range(self.total_iteration), lrs)\n",
    "        ax.set_xlabel('Iteration')\n",
    "        ax.set_ylabel('Learning rate')\n",
    "        \n",
    "        plt.show()\n",
    "\n",
    "class ConcatPooling2D(L.Layer):\n",
    "    \"Layer that concats `GlobalAveragePooling2D` and `GlobalMaxPooling2D`,\"\n",
    "    def __init__(self):\n",
    "        \"Output will be 2*output_size or 2 if output_size is None\"\n",
    "        super().__init__()\n",
    "        self.ap = L.GlobalAveragePooling2D()\n",
    "        self.mp = L.GlobalMaxPooling2D()\n",
    "    def call(self, x): return tf.concat([self.mp(x), self.ap(x)], 1)"
   ]
  },
  {
   "cell_type": "markdown",
   "metadata": {},
   "source": [
    "## Model"
   ]
  },
  {
   "cell_type": "markdown",
   "metadata": {},
   "source": [
    "## Training"
   ]
  },
  {
   "cell_type": "code",
   "execution_count": 23,
   "metadata": {},
   "outputs": [
    {
     "name": "stdout",
     "output_type": "stream",
     "text": [
      "Fold 1\n",
      "Running on TPU  grpc://10.0.0.2:8470\n",
      "REPLICAS:  8\n",
      "Downloading data from https://github.com/qubvel/efficientnet/releases/download/v0.0.1/efficientnet-b4_noisy-student_notop.h5\n",
      "71680000/71678424 [==============================] - 3s 0us/step\n",
      "Epoch 1/7\n",
      "783/783 [==============================] - 202s 258ms/step - categorical_accuracy: 0.5435 - f1_score: 0.5363 - loss: 2.1742 - val_categorical_accuracy: 0.7688 - val_f1_score: 0.7673 - val_loss: 1.4018\n",
      "Epoch 2/7\n",
      "783/783 [==============================] - 178s 227ms/step - categorical_accuracy: 0.7256 - f1_score: 0.7240 - loss: 1.5237 - val_categorical_accuracy: 0.7584 - val_f1_score: 0.7605 - val_loss: 1.4709\n",
      "Epoch 3/7\n",
      "783/783 [==============================] - 180s 230ms/step - categorical_accuracy: 0.7517 - f1_score: 0.7511 - loss: 1.4410 - val_categorical_accuracy: 0.7736 - val_f1_score: 0.7722 - val_loss: 1.4069\n",
      "Epoch 4/7\n",
      "783/783 [==============================] - 181s 231ms/step - categorical_accuracy: 0.7852 - f1_score: 0.7855 - loss: 1.3290 - val_categorical_accuracy: 0.8013 - val_f1_score: 0.8029 - val_loss: 1.3523\n",
      "Epoch 5/7\n",
      "783/783 [==============================] - 179s 229ms/step - categorical_accuracy: 0.8202 - f1_score: 0.8206 - loss: 1.2224 - val_categorical_accuracy: 0.8155 - val_f1_score: 0.8159 - val_loss: 1.2737\n",
      "Epoch 6/7\n",
      "783/783 [==============================] - 181s 231ms/step - categorical_accuracy: 0.8525 - f1_score: 0.8533 - loss: 1.1212 - val_categorical_accuracy: 0.8286 - val_f1_score: 0.8300 - val_loss: 1.2613\n",
      "Epoch 7/7\n",
      "783/783 [==============================] - 180s 230ms/step - categorical_accuracy: 0.8719 - f1_score: 0.8736 - loss: 1.0669 - val_categorical_accuracy: 0.8326 - val_f1_score: 0.8334 - val_loss: 1.2555\n",
      "FOLD TRAINING TIME: 1629.8s\n",
      "\n",
      "Fold 2\n",
      "Running on TPU  grpc://10.0.0.2:8470\n",
      "REPLICAS:  8\n",
      "Epoch 1/7\n",
      "783/783 [==============================] - 202s 259ms/step - categorical_accuracy: 0.5452 - f1_score: 0.5393 - loss: 2.1716 - val_categorical_accuracy: 0.7779 - val_f1_score: 0.7755 - val_loss: 1.3766\n",
      "Epoch 2/7\n",
      "783/783 [==============================] - 179s 228ms/step - categorical_accuracy: 0.7284 - f1_score: 0.7270 - loss: 1.5147 - val_categorical_accuracy: 0.7595 - val_f1_score: 0.7605 - val_loss: 1.4685\n",
      "Epoch 3/7\n",
      "783/783 [==============================] - 183s 233ms/step - categorical_accuracy: 0.7526 - f1_score: 0.7524 - loss: 1.4415 - val_categorical_accuracy: 0.7863 - val_f1_score: 0.7884 - val_loss: 1.3645\n",
      "Epoch 4/7\n",
      "783/783 [==============================] - 182s 233ms/step - categorical_accuracy: 0.7850 - f1_score: 0.7853 - loss: 1.3327 - val_categorical_accuracy: 0.8003 - val_f1_score: 0.7998 - val_loss: 1.3408\n",
      "Epoch 5/7\n",
      "783/783 [==============================] - 181s 232ms/step - categorical_accuracy: 0.8193 - f1_score: 0.8205 - loss: 1.2255 - val_categorical_accuracy: 0.8210 - val_f1_score: 0.8218 - val_loss: 1.2785\n",
      "Epoch 6/7\n",
      "783/783 [==============================] - 181s 232ms/step - categorical_accuracy: 0.8546 - f1_score: 0.8554 - loss: 1.1188 - val_categorical_accuracy: 0.8260 - val_f1_score: 0.8283 - val_loss: 1.2478\n",
      "Epoch 7/7\n",
      "783/783 [==============================] - 181s 232ms/step - categorical_accuracy: 0.8726 - f1_score: 0.8743 - loss: 1.0611 - val_categorical_accuracy: 0.8301 - val_f1_score: 0.8319 - val_loss: 1.2375\n",
      "FOLD TRAINING TIME: 1626.5s\n",
      "\n",
      "Fold 3\n",
      "Running on TPU  grpc://10.0.0.2:8470\n",
      "REPLICAS:  8\n",
      "Epoch 1/7\n",
      "783/783 [==============================] - 203s 259ms/step - categorical_accuracy: 0.5480 - f1_score: 0.5396 - loss: 2.1593 - val_categorical_accuracy: 0.7730 - val_f1_score: 0.7718 - val_loss: 1.3867\n",
      "Epoch 2/7\n",
      "783/783 [==============================] - 180s 231ms/step - categorical_accuracy: 0.7280 - f1_score: 0.7265 - loss: 1.5210 - val_categorical_accuracy: 0.7396 - val_f1_score: 0.7420 - val_loss: 1.4857\n",
      "Epoch 3/7\n",
      "783/783 [==============================] - 183s 234ms/step - categorical_accuracy: 0.7529 - f1_score: 0.7525 - loss: 1.4381 - val_categorical_accuracy: 0.7910 - val_f1_score: 0.7936 - val_loss: 1.3744\n",
      "Epoch 4/7\n",
      "783/783 [==============================] - 183s 234ms/step - categorical_accuracy: 0.7866 - f1_score: 0.7869 - loss: 1.3286 - val_categorical_accuracy: 0.8038 - val_f1_score: 0.8062 - val_loss: 1.3347\n",
      "Epoch 5/7\n",
      "783/783 [==============================] - 183s 234ms/step - categorical_accuracy: 0.8210 - f1_score: 0.8215 - loss: 1.2202 - val_categorical_accuracy: 0.8163 - val_f1_score: 0.8185 - val_loss: 1.2904\n",
      "Epoch 6/7\n",
      "783/783 [==============================] - 183s 233ms/step - categorical_accuracy: 0.8531 - f1_score: 0.8541 - loss: 1.1198 - val_categorical_accuracy: 0.8224 - val_f1_score: 0.8236 - val_loss: 1.2554\n",
      "Epoch 7/7\n",
      "680/783 [=========================>....] - ETA: 23s - categorical_accuracy: 0.8707 - f1_score: 0.8717 - loss: 1.0691"
     ]
    }
   ],
   "source": [
    "start_time = fold_start_time = time.time()\n",
    "\n",
    "which_folds = [0] + np.random.choice(np.arange(1,20), 2).tolist()\n",
    "oof_labels = []\n",
    "oof_preds = []\n",
    "\n",
    "for i, fd in enumerate(which_folds):\n",
    "    print(f\"Fold {i+1}\")\n",
    "    \n",
    "    VALID_FILENAMES = [TRAINING_FILENAMES[fd]]\n",
    "    TRAIN_FILENAMES = TRAINING_FILENAMES[:fd] + TRAINING_FILENAMES[fd+1:]\n",
    "    train_ds = get_training_dataset()\n",
    "    valid_ds = get_validation_dataset()\n",
    "    \n",
    "    strategy = get_strategy()\n",
    "    with strategy.scope():\n",
    "        pretrained_model = efn.EfficientNetB4(weights='noisy-student', include_top=False ,input_shape=[*IMAGE_SIZE, 3])\n",
    "        pretrained_model.trainable = True  # False = transfer learning, True = fine-tuning\n",
    "\n",
    "        model = tf.keras.Sequential([\n",
    "            pretrained_model,\n",
    "            L.GlobalAveragePooling2D(),\n",
    "            L.Dense(len(CLASSES), activation='softmax')\n",
    "        ])\n",
    "\n",
    "        model.compile(\n",
    "            optimizer=tf.keras.optimizers.Adam(LRSchedule(STEPS_PER_EPOCH * EPOCHS, max_lr=LR)),\n",
    "            loss=tf.keras.losses.CategoricalCrossentropy(label_smoothing=0.1),\n",
    "            metrics=[tf.keras.metrics.CategoricalAccuracy(), tfa.metrics.F1Score(len(CLASSES), average='macro', threshold=None)]\n",
    "        )\n",
    "\n",
    "        ckpt_callback = tf.keras.callbacks.ModelCheckpoint(\n",
    "            filepath=f'best_model_{i}.h5',\n",
    "            save_weights_only=True,\n",
    "            monitor='val_categorical_accuracy',\n",
    "            mode='max',\n",
    "            save_best_only=True\n",
    "        )\n",
    "    \n",
    "    model.fit(\n",
    "        train_ds,\n",
    "        epochs=EPOCHS,\n",
    "        steps_per_epoch=STEPS_PER_EPOCH,\n",
    "        validation_data=valid_ds,\n",
    "        callbacks=[ckpt_callback]\n",
    "    )\n",
    "    model.load_weights(f'best_model_{i}.h5')\n",
    "    \n",
    "    images_ds = valid_ds.map(lambda image, label: image)\n",
    "    labels_ds = valid_ds.map(lambda image, label: label).unbatch()\n",
    "    valid_labels = next(iter(labels_ds.batch(NUM_VALIDATION_IMAGES))).numpy()\n",
    "    valid_labels = np.argmax(valid_labels, -1)\n",
    "    valid_preds = model.predict(images_ds)\n",
    "    valid_preds = np.argmax(valid_preds, axis=-1)\n",
    "    oof_labels.append(valid_labels)\n",
    "    oof_preds.append(valid_preds)\n",
    "    \n",
    "    training_time = time.time() - fold_start_time\n",
    "    print(\"FOLD TRAINING TIME: {:0.1f}s\".format(training_time))\n",
    "    fold_start_time = time.time()\n",
    "    print()\n",
    "    \n",
    "keras_fit_training_time = time.time() - start_time\n",
    "print(\"KERAS FIT TRAINING TIME: {:0.1f}s\".format(keras_fit_training_time))"
   ]
  },
  {
   "cell_type": "markdown",
   "metadata": {},
   "source": [
    "# Validation"
   ]
  },
  {
   "cell_type": "code",
   "execution_count": 24,
   "metadata": {},
   "outputs": [
    {
     "data": {
      "image/png": "[encoded data removed]",
      "text/plain": [
       "<Figure size 1080x1080 with 1 Axes>"
      ]
     },
     "metadata": {
      "needs_background": "light"
     },
     "output_type": "display_data"
    },
    {
     "name": "stdout",
     "output_type": "stream",
     "text": [
      "CV accuracy: 0.831, f1 score: 0.832, precision: 0.832, recall: 0.834\n"
     ]
    }
   ],
   "source": [
    "oof_labels = np.concatenate(oof_labels)\n",
    "oof_preds = np.concatenate(oof_preds)\n",
    "\n",
    "oof_acc = accuracy_score(oof_labels, oof_preds)\n",
    "oof_f1 = f1_score(oof_labels, oof_preds, labels=range(len(CLASSES)), average='macro')\n",
    "oof_prec = precision_score(oof_labels, oof_preds, labels=range(len(CLASSES)), average='macro')\n",
    "oof_rec = recall_score(oof_labels, oof_preds, labels=range(len(CLASSES)), average='macro')\n",
    "\n",
    "cmat = confusion_matrix(oof_labels, oof_preds, labels=range(len(CLASSES)))\n",
    "cmat = (cmat.T / cmat.sum(axis=1)).T  # normalized\n",
    "\n",
    "display_confusion_matrix(cmat, oof_f1, oof_prec, oof_rec)\n",
    "print('CV accuracy: {:.3f}, f1 score: {:.3f}, precision: {:.3f}, recall: {:.3f}'.format(oof_acc, oof_f1, oof_prec, oof_rec))"
   ]
  },
  {
   "cell_type": "code",
   "execution_count": null,
   "metadata": {},
   "outputs": [],
   "source": []
  }
 ],
 "metadata": {
  "kernelspec": {
   "display_name": "Python 3",
   "language": "python",
   "name": "python3"
  },
  "language_info": {
   "codemirror_mode": {
    "name": "ipython",
    "version": 3
   },
   "file_extension": ".py",
   "mimetype": "text/x-python",
   "name": "python",
   "nbconvert_exporter": "python",
   "pygments_lexer": "ipython3",
   "version": "3.7.5"
  },
  "toc": {
   "base_numbering": 1,
   "nav_menu": {},
   "number_sections": true,
   "sideBar": true,
   "skip_h1_title": false,
   "title_cell": "Table of Contents",
   "title_sidebar": "Contents",
   "toc_cell": true,
   "toc_position": {},
   "toc_section_display": true,
   "toc_window_display": true
  }
 },
 "nbformat": 4,
 "nbformat_minor": 4
}
